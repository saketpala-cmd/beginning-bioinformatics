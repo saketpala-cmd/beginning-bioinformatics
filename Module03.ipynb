{
  "nbformat": 4,
  "nbformat_minor": 0,
  "metadata": {
    "colab": {
      "provenance": [],
      "authorship_tag": "ABX9TyOTWvb0Wb8zUeqSzBIsHRuz",
      "include_colab_link": true
    },
    "kernelspec": {
      "name": "python3",
      "display_name": "Python 3"
    },
    "language_info": {
      "name": "python"
    }
  },
  "cells": [
    {
      "cell_type": "markdown",
      "metadata": {
        "id": "view-in-github",
        "colab_type": "text"
      },
      "source": [
        "<a href=\"https://colab.research.google.com/github/saketpala-cmd/beginning-bioinformatics/blob/main/Module03.ipynb\" target=\"_parent\"><img src=\"https://colab.research.google.com/assets/colab-badge.svg\" alt=\"Open In Colab\"/></a>"
      ]
    },
    {
      "cell_type": "code",
      "execution_count": 1,
      "metadata": {
        "colab": {
          "base_uri": "https://localhost:8080/"
        },
        "id": "Pic_OkCoZqCD",
        "outputId": "5bd2b819-0b1d-4d0b-8901-873142447925"
      },
      "outputs": [
        {
          "output_type": "stream",
          "name": "stdout",
          "text": [
            "your name: Saketh\n",
            "Hello Saketh\n"
          ]
        }
      ],
      "source": [
        "name= input(\"your name: \")\n",
        "print(\"Hello\", name)"
      ]
    },
    {
      "cell_type": "code",
      "source": [
        "import math\n",
        "a = float(input(\"a:\")); b = float(input(\"b:\"))\n",
        "print(math.hypot(a, b))"
      ],
      "metadata": {
        "colab": {
          "base_uri": "https://localhost:8080/"
        },
        "id": "VcXjilHKaqUR",
        "outputId": "4e7d2218-dae2-44c3-c61a-31c4929ed1fd"
      },
      "execution_count": 3,
      "outputs": [
        {
          "output_type": "stream",
          "name": "stdout",
          "text": [
            "a:5\n",
            "b:8\n",
            "9.433981132056603\n"
          ]
        }
      ]
    },
    {
      "cell_type": "code",
      "source": [
        "my_list = [\"Hello\", \"World\", \"Charles Darwin\"]\n",
        "print(my_list[1])              # indexing starts at 0 → prints \"World\"\n",
        "my_list[2] = \"Alfred R. Wallace\"  # replace\n",
        "my_list.append(\"Charles Darwin\")  # append back"
      ],
      "metadata": {
        "colab": {
          "base_uri": "https://localhost:8080/"
        },
        "id": "BN6jqA4DasLy",
        "outputId": "12744142-e2d1-4862-f196-f1a8ca329441"
      },
      "execution_count": 9,
      "outputs": [
        {
          "output_type": "stream",
          "name": "stdout",
          "text": [
            "World\n"
          ]
        }
      ]
    },
    {
      "cell_type": "code",
      "source": [
        "my_list.insert(1, \"Inserted item\")"
      ],
      "metadata": {
        "id": "z1CGbJhifDP2"
      },
      "execution_count": 10,
      "outputs": []
    },
    {
      "cell_type": "code",
      "source": [
        "# From the P7 list, print \"World\" and \"Alfred R. Wallace\"\n",
        "print(my_list[2:4])   # end index is non-inclusive\n",
        "# Strings slice the same way:\n",
        "s = \"HelloWorldCharlesDarwinAlfred R. Wallace\"\n",
        "print(s[0:5], s[5:10])  # \"Hello\" \"World\""
      ],
      "metadata": {
        "colab": {
          "base_uri": "https://localhost:8080/"
        },
        "id": "1w9cAgg8fWlW",
        "outputId": "361a62d7-4c91-4559-87fd-15a1ac90580b"
      },
      "execution_count": 11,
      "outputs": [
        {
          "output_type": "stream",
          "name": "stdout",
          "text": [
            "['World', 'Alfred R. Wallace']\n",
            "Hello World\n"
          ]
        }
      ]
    },
    {
      "cell_type": "code",
      "source": [
        "x = int(input(\"x: \")); y = int(input(\"y: \"))\n",
        "if x == y:\n",
        "    print(\"Sum:\", x + y)\n",
        "else:\n",
        "    print(\"Difference:\", x - y)"
      ],
      "metadata": {
        "colab": {
          "base_uri": "https://localhost:8080/"
        },
        "id": "8W3y51oBhqnl",
        "outputId": "84389852-f0e1-4d81-f8c2-397603af0e12"
      },
      "execution_count": 12,
      "outputs": [
        {
          "output_type": "stream",
          "name": "stdout",
          "text": [
            "x: 9\n",
            "y: 8\n",
            "Difference: 1\n"
          ]
        }
      ]
    },
    {
      "cell_type": "code",
      "source": [
        "i = 1\n",
        "while i <= 3:\n",
        "    print(\"Counting!\")\n",
        "    i += 1"
      ],
      "metadata": {
        "colab": {
          "base_uri": "https://localhost:8080/"
        },
        "id": "YqbRqqwTjWqn",
        "outputId": "2af08bbf-895a-49d5-8394-631781b07577"
      },
      "execution_count": 13,
      "outputs": [
        {
          "output_type": "stream",
          "name": "stdout",
          "text": [
            "Counting!\n",
            "Counting!\n",
            "Counting!\n"
          ]
        }
      ]
    },
    {
      "cell_type": "code",
      "source": [
        "names = [\"Ada\", \"Linus\", \"Grace\"]\n",
        "for name in names:\n",
        "    print(\"Hello\", name)"
      ],
      "metadata": {
        "colab": {
          "base_uri": "https://localhost:8080/"
        },
        "id": "TCdEdPtvjfaf",
        "outputId": "729b7dd8-f44b-44a6-d9b9-bc56c5c47d6d"
      },
      "execution_count": 14,
      "outputs": [
        {
          "output_type": "stream",
          "name": "stdout",
          "text": [
            "Hello Ada\n",
            "Hello Linus\n",
            "Hello Grace\n"
          ]
        }
      ]
    },
    {
      "cell_type": "code",
      "source": [
        "iterations = 10\n",
        "for n in range(iterations):  # 0..9\n",
        "    print(n)\n",
        "# Every 3rd number from 9..27 inclusive:\n",
        "for n in range(9, 28, 3):\n",
        "    print(n)"
      ],
      "metadata": {
        "colab": {
          "base_uri": "https://localhost:8080/"
        },
        "id": "B2pa1mt8j8Y5",
        "outputId": "556a2f3d-40ac-4765-b95c-486434d9bf6f"
      },
      "execution_count": 15,
      "outputs": [
        {
          "output_type": "stream",
          "name": "stdout",
          "text": [
            "0\n",
            "1\n",
            "2\n",
            "3\n",
            "4\n",
            "5\n",
            "6\n",
            "7\n",
            "8\n",
            "9\n",
            "9\n",
            "12\n",
            "15\n",
            "18\n",
            "21\n",
            "24\n",
            "27\n"
          ]
        }
      ]
    },
    {
      "cell_type": "code",
      "source": [
        "with open(\"practice.txt\", \"r\") as data:\n",
        "    print(data.read())"
      ],
      "metadata": {
        "colab": {
          "base_uri": "https://localhost:8080/"
        },
        "id": "n81qi0hTkF6y",
        "outputId": "2f9aac7c-3740-493d-8b28-12b81a4a6b8b"
      },
      "execution_count": 18,
      "outputs": [
        {
          "output_type": "stream",
          "name": "stdout",
          "text": [
            "Hello World\n",
            "Charles Darwin\n",
            "Alfred R. Wallace\n",
            "\n"
          ]
        }
      ]
    },
    {
      "cell_type": "code",
      "source": [
        "with open(\"/content/practice.txt\", \"r\") as data:\n",
        "    print(data.readline())\n",
        "with open(\"/content/practice.txt\", \"r\") as data:\n",
        "    print(data.readlines())"
      ],
      "metadata": {
        "colab": {
          "base_uri": "https://localhost:8080/"
        },
        "id": "R095K9RonA88",
        "outputId": "b6071ebf-d391-4170-b4ae-8cad590e45ee"
      },
      "execution_count": 20,
      "outputs": [
        {
          "output_type": "stream",
          "name": "stdout",
          "text": [
            "Hello World\n",
            "\n",
            "['Hello World\\n', 'Charles Darwin\\n', 'Alfred R. Wallace\\n']\n"
          ]
        }
      ]
    },
    {
      "cell_type": "code",
      "source": [
        "with open(\"/content/practice.txt\") as f:\n",
        "    lines = f.readlines()\n",
        "print(\"\".join(lines))          # prints like original\n",
        "print(\"_\".join(lines[1:3]))    # slice + join demo"
      ],
      "metadata": {
        "colab": {
          "base_uri": "https://localhost:8080/"
        },
        "id": "-SgobaLsoCC1",
        "outputId": "9d395083-978d-4674-8313-ca5a1805f64a"
      },
      "execution_count": 21,
      "outputs": [
        {
          "output_type": "stream",
          "name": "stdout",
          "text": [
            "Hello World\n",
            "Charles Darwin\n",
            "Alfred R. Wallace\n",
            "\n",
            "Charles Darwin\n",
            "_Alfred R. Wallace\n",
            "\n"
          ]
        }
      ]
    },
    {
      "cell_type": "code",
      "source": [
        "with open(\"/content/practice.txt\") as data:\n",
        "    for line in data:\n",
        "        print(line.rstrip())"
      ],
      "metadata": {
        "colab": {
          "base_uri": "https://localhost:8080/"
        },
        "id": "8nqNnChRphLY",
        "outputId": "fb4a8407-302a-46cb-f7e8-2116022b5a50"
      },
      "execution_count": 22,
      "outputs": [
        {
          "output_type": "stream",
          "name": "stdout",
          "text": [
            "Hello World\n",
            "Charles Darwin\n",
            "Alfred R. Wallace\n"
          ]
        }
      ]
    },
    {
      "cell_type": "code",
      "source": [
        "line = \"Bravely bold Sir Robin\"\n",
        "for word in line.split():  # default splits on whitespace\n",
        "    print(word)"
      ],
      "metadata": {
        "colab": {
          "base_uri": "https://localhost:8080/"
        },
        "id": "e7Iz_t37pwxC",
        "outputId": "a8e63664-3156-48e3-8998-68b07c6dcfef"
      },
      "execution_count": 23,
      "outputs": [
        {
          "output_type": "stream",
          "name": "stdout",
          "text": [
            "Bravely\n",
            "bold\n",
            "Sir\n",
            "Robin\n"
          ]
        }
      ]
    },
    {
      "cell_type": "code",
      "source": [
        "sequences = {\n",
        "    \"H\":\"Hello\",\n",
        "    \"W\":\"World\",\n",
        "    \"ARC\":\"Alfred R. Wallace\",\n",
        "    \"CD\":\"Charles Darwin\"\n",
        "}\n",
        "print(sequences[\"CD\"])  # access by key"
      ],
      "metadata": {
        "colab": {
          "base_uri": "https://localhost:8080/"
        },
        "id": "wsyR7jBxp0s4",
        "outputId": "af78f1e3-7a10-48c9-fa3d-75c48407c414"
      },
      "execution_count": 24,
      "outputs": [
        {
          "output_type": "stream",
          "name": "stdout",
          "text": [
            "Charles Darwin\n"
          ]
        }
      ]
    },
    {
      "cell_type": "code",
      "source": [
        "# add/update\n",
        "sequences[\"HS\"] = \"Homo sapiens\"\n",
        "sequences.update({\"PT\":\"Pan troglodytes\"})\n",
        "\n",
        "# iterate key/value pairs\n",
        "for k, v in sequences.items():\n",
        "    print(k, v)\n",
        "\n",
        "# write a small FASTA file\n",
        "with open(\"/content/hominids.fasta\", \"w\") as out:\n",
        "    for k, v in sequences.items():\n",
        "        out.write(f\">{k}\\n{v}\\n\")"
      ],
      "metadata": {
        "colab": {
          "base_uri": "https://localhost:8080/"
        },
        "id": "O1Yhi8TFp58U",
        "outputId": "9b1427b1-1e17-4bff-946b-b4f7ed1263b4"
      },
      "execution_count": 25,
      "outputs": [
        {
          "output_type": "stream",
          "name": "stdout",
          "text": [
            "H Hello\n",
            "W World\n",
            "ARC Alfred R. Wallace\n",
            "CD Charles Darwin\n",
            "HS Homo sapiens\n",
            "PT Pan troglodytes\n"
          ]
        }
      ]
    },
    {
      "cell_type": "code",
      "source": [
        "dna = \"ACGTACGTAAAACC\"\n",
        "print(dna.count(\"A\"), dna.count(\"C\"), dna.count(\"G\"), dna.count(\"T\"))"
      ],
      "metadata": {
        "colab": {
          "base_uri": "https://localhost:8080/"
        },
        "id": "uLJkiiSHqBd1",
        "outputId": "423cef19-0a3f-49cd-a91e-d77a43a98fa6"
      },
      "execution_count": 26,
      "outputs": [
        {
          "output_type": "stream",
          "name": "stdout",
          "text": [
            "6 4 2 2\n"
          ]
        }
      ]
    },
    {
      "cell_type": "code",
      "source": [
        "!pip install biopython"
      ],
      "metadata": {
        "colab": {
          "base_uri": "https://localhost:8080/"
        },
        "id": "eCqJOEs8qFjA",
        "outputId": "9c1a03a4-be1b-44d9-c13a-7ef9e7286047"
      },
      "execution_count": 27,
      "outputs": [
        {
          "output_type": "stream",
          "name": "stdout",
          "text": [
            "Collecting biopython\n",
            "  Downloading biopython-1.85-cp312-cp312-manylinux_2_17_x86_64.manylinux2014_x86_64.whl.metadata (13 kB)\n",
            "Requirement already satisfied: numpy in /usr/local/lib/python3.12/dist-packages (from biopython) (2.0.2)\n",
            "Downloading biopython-1.85-cp312-cp312-manylinux_2_17_x86_64.manylinux2014_x86_64.whl (3.3 MB)\n",
            "\u001b[2K   \u001b[90m━━━━━━━━━━━━━━━━━━━━━━━━━━━━━━━━━━━━━━━━\u001b[0m \u001b[32m3.3/3.3 MB\u001b[0m \u001b[31m38.1 MB/s\u001b[0m eta \u001b[36m0:00:00\u001b[0m\n",
            "\u001b[?25hInstalling collected packages: biopython\n",
            "Successfully installed biopython-1.85\n"
          ]
        }
      ]
    },
    {
      "cell_type": "code",
      "source": [
        "from Bio.Seq import Seq\n",
        "my_sequence = Seq(\"ATGGCCATTGTAATGGGCCGCTGAAAGGGTGCCCGATAG\")\n",
        "print(my_sequence.complement())\n",
        "print(my_sequence.reverse_complement())\n",
        "print(my_sequence.transcribe())\n",
        "print(my_sequence.translate())"
      ],
      "metadata": {
        "colab": {
          "base_uri": "https://localhost:8080/"
        },
        "id": "EHvXp_qRqPVl",
        "outputId": "a2814483-39fd-4b69-cf2f-c8499fdd0b88"
      },
      "execution_count": 29,
      "outputs": [
        {
          "output_type": "stream",
          "name": "stdout",
          "text": [
            "TACCGGTAACATTACCCGGCGACTTTCCCACGGGCTATC\n",
            "CTATCGGGCACCCTTTCAGCGGCCCATTACAATGGCCAT\n",
            "AUGGCCAUUGUAAUGGGCCGCUGAAAGGGUGCCCGAUAG\n",
            "MAIVMGR*KGAR*\n"
          ]
        }
      ]
    },
    {
      "cell_type": "code",
      "source": [
        "from Bio.SeqIO import parse\n",
        "for seq_record in parse(\"/content/practice_9.txt\", \"fasta\"):\n",
        "    print(seq_record.id)\n",
        "    print(len(seq_record.seq))\n",
        "    print(seq_record)"
      ],
      "metadata": {
        "id": "aK2_19zjqXCx"
      },
      "execution_count": 33,
      "outputs": []
    },
    {
      "cell_type": "code",
      "source": [
        "from Bio.SeqUtils import gc_fraction\n",
        "best_id, best_gc = None, -1.0\n",
        "for rec in parse(\"/content/practice_9.txt\", \"fasta\"):\n",
        "    gc = gc_fraction(str(rec.seq))\n",
        "    if gc > best_gc:\n",
        "        best_id, best_gc = rec.id, gc\n",
        "print(best_id)\n",
        "print(best_gc)"
      ],
      "metadata": {
        "colab": {
          "base_uri": "https://localhost:8080/"
        },
        "id": "RIp_5CsPszP9",
        "outputId": "66c378a5-27e7-4345-fd79-3c4672998c13"
      },
      "execution_count": 34,
      "outputs": [
        {
          "output_type": "stream",
          "name": "stdout",
          "text": [
            "None\n",
            "-1.0\n"
          ]
        }
      ]
    },
    {
      "cell_type": "code",
      "source": [],
      "metadata": {
        "id": "Wrom9CeItJ3H"
      },
      "execution_count": null,
      "outputs": []
    }
  ]
}