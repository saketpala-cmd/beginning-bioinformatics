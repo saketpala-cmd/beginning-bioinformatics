{
  "nbformat": 4,
  "nbformat_minor": 0,
  "metadata": {
    "colab": {
      "provenance": [],
      "authorship_tag": "ABX9TyPvP7DAmcjcM5ps8t8WhBu6",
      "include_colab_link": true
    },
    "kernelspec": {
      "name": "python3",
      "display_name": "Python 3"
    },
    "language_info": {
      "name": "python"
    }
  },
  "cells": [
    {
      "cell_type": "markdown",
      "metadata": {
        "id": "view-in-github",
        "colab_type": "text"
      },
      "source": [
        "<a href=\"https://colab.research.google.com/github/saketpala-cmd/beginning-bioinformatics/blob/main/Module03.ipynb\" target=\"_parent\"><img src=\"https://colab.research.google.com/assets/colab-badge.svg\" alt=\"Open In Colab\"/></a>"
      ]
    },
    {
      "cell_type": "code",
      "execution_count": 1,
      "metadata": {
        "colab": {
          "base_uri": "https://localhost:8080/"
        },
        "id": "Pic_OkCoZqCD",
        "outputId": "5bd2b819-0b1d-4d0b-8901-873142447925"
      },
      "outputs": [
        {
          "output_type": "stream",
          "name": "stdout",
          "text": [
            "your name: Saketh\n",
            "Hello Saketh\n"
          ]
        }
      ],
      "source": [
        "name= input(\"your name: \")\n",
        "print(\"Hello\", name)"
      ]
    },
    {
      "cell_type": "code",
      "source": [
        "import math\n",
        "a = float(input(\"a:\")); b = float(input(\"b:\"))\n",
        "print(math.hypot(a, b))"
      ],
      "metadata": {
        "colab": {
          "base_uri": "https://localhost:8080/"
        },
        "id": "VcXjilHKaqUR",
        "outputId": "4e7d2218-dae2-44c3-c61a-31c4929ed1fd"
      },
      "execution_count": 3,
      "outputs": [
        {
          "output_type": "stream",
          "name": "stdout",
          "text": [
            "a:5\n",
            "b:8\n",
            "9.433981132056603\n"
          ]
        }
      ]
    },
    {
      "cell_type": "code",
      "source": [
        "my_list = [\"Hello\", \"World\", \"Charles Darwin\"]\n",
        "print(my_list[1])              # indexing starts at 0 → prints \"World\"\n",
        "my_list[2] = \"Alfred R. Wallace\"  # replace\n",
        "my_list.append(\"Charles Darwin\")  # append back"
      ],
      "metadata": {
        "colab": {
          "base_uri": "https://localhost:8080/"
        },
        "id": "BN6jqA4DasLy",
        "outputId": "12744142-e2d1-4862-f196-f1a8ca329441"
      },
      "execution_count": 9,
      "outputs": [
        {
          "output_type": "stream",
          "name": "stdout",
          "text": [
            "World\n"
          ]
        }
      ]
    },
    {
      "cell_type": "code",
      "source": [
        "my_list.insert(1, \"Inserted item\")"
      ],
      "metadata": {
        "id": "z1CGbJhifDP2"
      },
      "execution_count": 10,
      "outputs": []
    },
    {
      "cell_type": "code",
      "source": [
        "# From the P7 list, print \"World\" and \"Alfred R. Wallace\"\n",
        "print(my_list[2:4])   # end index is non-inclusive\n",
        "# Strings slice the same way:\n",
        "s = \"HelloWorldCharlesDarwinAlfred R. Wallace\"\n",
        "print(s[0:5], s[5:10])  # \"Hello\" \"World\""
      ],
      "metadata": {
        "colab": {
          "base_uri": "https://localhost:8080/"
        },
        "id": "1w9cAgg8fWlW",
        "outputId": "361a62d7-4c91-4559-87fd-15a1ac90580b"
      },
      "execution_count": 11,
      "outputs": [
        {
          "output_type": "stream",
          "name": "stdout",
          "text": [
            "['World', 'Alfred R. Wallace']\n",
            "Hello World\n"
          ]
        }
      ]
    },
    {
      "cell_type": "code",
      "source": [
        "x = int(input(\"x: \")); y = int(input(\"y: \"))\n",
        "if x == y:\n",
        "    print(\"Sum:\", x + y)\n",
        "else:\n",
        "    print(\"Difference:\", x - y)"
      ],
      "metadata": {
        "colab": {
          "base_uri": "https://localhost:8080/"
        },
        "id": "8W3y51oBhqnl",
        "outputId": "84389852-f0e1-4d81-f8c2-397603af0e12"
      },
      "execution_count": 12,
      "outputs": [
        {
          "output_type": "stream",
          "name": "stdout",
          "text": [
            "x: 9\n",
            "y: 8\n",
            "Difference: 1\n"
          ]
        }
      ]
    }
  ]
}