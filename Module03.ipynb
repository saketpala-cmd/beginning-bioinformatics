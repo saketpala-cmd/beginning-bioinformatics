{
  "nbformat": 4,
  "nbformat_minor": 0,
  "metadata": {
    "colab": {
      "provenance": [],
      "authorship_tag": "ABX9TyPRF//GytHMsCDWGt6k0x/B",
      "include_colab_link": true
    },
    "kernelspec": {
      "name": "python3",
      "display_name": "Python 3"
    },
    "language_info": {
      "name": "python"
    }
  },
  "cells": [
    {
      "cell_type": "markdown",
      "metadata": {
        "id": "view-in-github",
        "colab_type": "text"
      },
      "source": [
        "<a href=\"https://colab.research.google.com/github/saketpala-cmd/beginning-bioinformatics/blob/main/Module03.ipynb\" target=\"_parent\"><img src=\"https://colab.research.google.com/assets/colab-badge.svg\" alt=\"Open In Colab\"/></a>"
      ]
    },
    {
      "cell_type": "code",
      "execution_count": 1,
      "metadata": {
        "colab": {
          "base_uri": "https://localhost:8080/"
        },
        "id": "Pic_OkCoZqCD",
        "outputId": "5bd2b819-0b1d-4d0b-8901-873142447925"
      },
      "outputs": [
        {
          "output_type": "stream",
          "name": "stdout",
          "text": [
            "your name: Saketh\n",
            "Hello Saketh\n"
          ]
        }
      ],
      "source": [
        "name= input(\"your name: \")\n",
        "print(\"Hello\", name)"
      ]
    },
    {
      "cell_type": "code",
      "source": [
        "import math\n",
        "a = float(input(\"a:\")); b = float(input(\"b:\"))\n",
        "print(math.hypot(a, b))"
      ],
      "metadata": {
        "colab": {
          "base_uri": "https://localhost:8080/"
        },
        "id": "VcXjilHKaqUR",
        "outputId": "4e7d2218-dae2-44c3-c61a-31c4929ed1fd"
      },
      "execution_count": 3,
      "outputs": [
        {
          "output_type": "stream",
          "name": "stdout",
          "text": [
            "a:5\n",
            "b:8\n",
            "9.433981132056603\n"
          ]
        }
      ]
    },
    {
      "cell_type": "code",
      "source": [],
      "metadata": {
        "id": "BN6jqA4DasLy"
      },
      "execution_count": null,
      "outputs": []
    }
  ]
}